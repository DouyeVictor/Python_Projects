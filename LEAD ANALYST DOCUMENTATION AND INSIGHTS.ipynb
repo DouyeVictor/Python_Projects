{
 "cells": [
  {
   "cell_type": "markdown",
   "id": "65c9a8b5",
   "metadata": {},
   "source": [
    "# Documentation of work for Lead Analyst Task\n"
   ]
  },
  {
   "cell_type": "markdown",
   "id": "be376db8",
   "metadata": {},
   "source": [
    "Author-Douye Victor Orumieyefa<br>\n",
    "Tools Employed: Python, SQL Server, Power BI and Markdown<br>\n",
    "Link to Python Code- [Python Link](https://github.com/DouyeVictor/Python_Projects/blob/main/Lead_Analyst_Python.ipynb)<br>\n",
    "Link to SQL Query- [SQL Query Link](https://github.com/DouyeVictor/SQL_Data_Cleaning/blob/main/LeadAnalystSQL.sql)<br>"
   ]
  },
  {
   "cell_type": "markdown",
   "id": "1d533c6f",
   "metadata": {},
   "source": [
    "  ### Exporting from Excel\n",
    "\n",
    "-Downloaded individual sheets from Excel Workbook. <br>\n",
    "-Converted data type to CSV files.<br>\n",
    "-Renamed tables to Client_Table, Date_Table, Long_Term_Support_Table, Request_Table and New_Admissions_Table.<br>\n",
    "<br>\n",
    "<br>\n",
    "<br>\n"
   ]
  },
  {
   "cell_type": "markdown",
   "id": "a8f77669",
   "metadata": {},
   "source": [
    "##  Python \n",
    "<br>\n",
    "-Imported relevant library for Data Cleaning<br>\n",
    "-Changed working directory to relevant folder using %cd<br>\n",
    "-imported all 5 tables using pd.read_csv() method\n",
    "<br>"
   ]
  },
  {
   "cell_type": "markdown",
   "id": "9a31fd9d",
   "metadata": {},
   "source": [
    "### Cleaning in Python\n",
    "#### Handling Missing Values & Duplicates\n",
    "-Dropped all null values using .dropna() method <br>\n",
    "-Dropped all duplicate values using .drop_duplicates() method <br>\n",
    "-Viewed top six rows to verify data is consistent using .head(6) method <br>\n",
    "-Noticed the Client_Table had 4 extra unnamed columns. <br>\n",
    "-Dropped Unnamed columns using .drop(column) method by their indexes.<br>\n",
    "-Viewed other tables for to check quality <br>\n",
    "-Noticed Enddate Column in New_Admissions_Table had rows with '0'.<br>\n",
    "-Dropped rows with '0' as this represented a negligible fraction.<br>\n",
    "-Finally saved all cleaned tables as csv files using .to_csv() method.<br>\n",
    "<br>\n",
    "<br>\n",
    "<br>\n",
    "<br>\n",
    "\n",
    "\n",
    "\n"
   ]
  },
  {
   "cell_type": "markdown",
   "id": "5fa7c1b1",
   "metadata": {},
   "source": [
    "## SQL (SQL Server)"
   ]
  },
  {
   "cell_type": "markdown",
   "id": "cad1ce8d",
   "metadata": {},
   "source": [
    "-Connected to Server -VICTOR\\SQLRECENTDEV Using Windows Authentication<br>"
   ]
  },
  {
   "cell_type": "markdown",
   "id": "abc76a92",
   "metadata": {},
   "source": [
    "-Created Database called 'CARE'<br>\n",
    "-Viewed all existing tables using 'SELECT TOP 5*'<br>\n",
    "-Joined all five tables using LEFT and INNER JOINS <br>\n",
    "-Named the unified result 'Care_Table'<br>\n",
    "-Deleted null rows in the Table using DELETE FROM \n",
    "<br>\n",
    "<br>\n",
    "<br>\n",
    "<br>\n",
    "\n",
    "\n"
   ]
  },
  {
   "cell_type": "markdown",
   "id": "b99197f6",
   "metadata": {},
   "source": [
    "## Power BI"
   ]
  },
  {
   "cell_type": "markdown",
   "id": "6e47c219",
   "metadata": {},
   "source": [
    "-Connected SQL Database to PowerBI Desktop via server VICTOR\\SQLRECENTDEV and CARE database<br>\n",
    "-Previewed Tables using Table View to confirm consistency <br>\n",
    "-Created new measure from columns such as Count of Client Key<br>\n",
    "-Visualized relationships as seen in Dashboard<br>\n",
    "-Exported to PDF Format<br>\n",
    "<br>\n",
    "<br>\n",
    "<br>\n",
    "<br>"
   ]
  },
  {
   "cell_type": "markdown",
   "id": "4cb01be7",
   "metadata": {},
   "source": [
    "## Insights"
   ]
  },
  {
   "cell_type": "markdown",
   "id": "a825eb00",
   "metadata": {},
   "source": [
    "-Total Number of Clients is 19,9000 thousand<br>\n",
    "-Total Number of request(32k) Peaked at 2021/2021 Fiscal Year and has an all-time-low at 2022/2023 Fiscal Year<br>\n",
    "-Age groups over 65 years accoubted for the bulk of Clients while does under 18 years accounted for the least<br>\n",
    "-In terms of Purchasing Team, Older people Team yielded the highest amount of new Admissions(85%) while Adult Disability Team Yielded the least(6%).<br>\n",
    "-The most follow-up action after Requests were made was Short Term Support and 'No services provided' while the least where 'Health Funded'.<br>\n",
    "-Mondays saw the highest rates of New Admissions while Sundays saw the least<br>.\n",
    "-Thurdays have the highest likelihood of having 'Long Term Support' based Clients.<br>.\n",
    "\n",
    "<br>\n",
    "<br>\n",
    "<br>\n",
    "<br>\n",
    "<br>\n",
    "\n",
    "\n"
   ]
  },
  {
   "cell_type": "markdown",
   "id": "0d557e43",
   "metadata": {},
   "source": [
    "## Limitation to quality<br>\n",
    "<br>\n",
    "-Time"
   ]
  },
  {
   "cell_type": "code",
   "execution_count": null,
   "id": "a976bdab",
   "metadata": {},
   "outputs": [],
   "source": []
  }
 ],
 "metadata": {
  "kernelspec": {
   "display_name": "Python 3 (ipykernel)",
   "language": "python",
   "name": "python3"
  },
  "language_info": {
   "codemirror_mode": {
    "name": "ipython",
    "version": 3
   },
   "file_extension": ".py",
   "mimetype": "text/x-python",
   "name": "python",
   "nbconvert_exporter": "python",
   "pygments_lexer": "ipython3",
   "version": "3.9.13"
  }
 },
 "nbformat": 4,
 "nbformat_minor": 5
}
